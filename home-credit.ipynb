{
 "cells": [
  {
   "cell_type": "markdown",
   "metadata": {},
   "source": [
    "# Sales and Revenue Predictive Model\n",
    "Jessiedee Mark B. Gingo, Data Scientist candidate, Home Credit PH"
   ]
  },
  {
   "cell_type": "code",
   "execution_count": 2,
   "metadata": {
    "_cell_guid": "3d61c3cf-343d-4c2e-9541-6d2d659053de",
    "_uuid": "52789e80-03cc-4089-b60f-4b1dc2ed30f5"
   },
   "outputs": [
    {
     "ename": "ModuleNotFoundError",
     "evalue": "No module named 'sklearn'",
     "output_type": "error",
     "traceback": [
      "\u001b[1;31m---------------------------------------------------------------------------\u001b[0m",
      "\u001b[1;31mModuleNotFoundError\u001b[0m                       Traceback (most recent call last)",
      "\u001b[1;32m<ipython-input-2-e34010ef725e>\u001b[0m in \u001b[0;36m<module>\u001b[1;34m\u001b[0m\n\u001b[0;32m      2\u001b[0m \u001b[1;32mimport\u001b[0m \u001b[0mnumpy\u001b[0m \u001b[1;32mas\u001b[0m \u001b[0mnp\u001b[0m\u001b[1;33m\u001b[0m\u001b[1;33m\u001b[0m\u001b[0m\n\u001b[0;32m      3\u001b[0m \u001b[1;32mimport\u001b[0m \u001b[0mpandas\u001b[0m \u001b[1;32mas\u001b[0m \u001b[0mpd\u001b[0m\u001b[1;33m\u001b[0m\u001b[1;33m\u001b[0m\u001b[0m\n\u001b[1;32m----> 4\u001b[1;33m \u001b[1;32mfrom\u001b[0m \u001b[0msklearn\u001b[0m \u001b[1;32mimport\u001b[0m \u001b[0mpreprocessing\u001b[0m\u001b[1;33m\u001b[0m\u001b[1;33m\u001b[0m\u001b[0m\n\u001b[0m\u001b[0;32m      5\u001b[0m \u001b[1;32mfrom\u001b[0m \u001b[0msklearn\u001b[0m\u001b[1;33m.\u001b[0m\u001b[0mmodel_selection\u001b[0m \u001b[1;32mimport\u001b[0m \u001b[0mtrain_test_split\u001b[0m\u001b[1;33m\u001b[0m\u001b[1;33m\u001b[0m\u001b[0m\n\u001b[0;32m      6\u001b[0m \u001b[1;32mfrom\u001b[0m \u001b[0msklearn\u001b[0m\u001b[1;33m.\u001b[0m\u001b[0mfeature_selection\u001b[0m \u001b[1;32mimport\u001b[0m \u001b[0mRFE\u001b[0m\u001b[1;33m\u001b[0m\u001b[1;33m\u001b[0m\u001b[0m\n",
      "\u001b[1;31mModuleNotFoundError\u001b[0m: No module named 'sklearn'"
     ]
    }
   ],
   "source": [
    "# import dependencies\n",
    "import numpy as np \n",
    "import pandas as pd \n",
    "from sklearn import preprocessing\n",
    "from sklearn.model_selection import train_test_split\n",
    "from sklearn.feature_selection import RFE\n",
    "from sklearn.linear_model import LogisticRegression\n",
    "from sklearn.linear_model import LinearRegression\n",
    "from sklearn.ensemble import RandomForestClassifier\n",
    "from sklearn.preprocessing import StandardScaler\n",
    "from sklearn.metrics import accuracy_score\n",
    "from sklearn.model_selection import GridSearchCV\n",
    "from sklearn.metrics import mean_absolute_error\n",
    "from xgboost import XGBRegressor"
   ]
  },
  {
   "cell_type": "code",
   "execution_count": 4,
   "metadata": {
    "_cell_guid": "4b0637b0-a902-44c5-aae1-6db018ae7085",
    "_uuid": "46a8965a-f7b9-4ce5-901b-926ff87bb13f",
    "scrolled": true
   },
   "outputs": [],
   "source": [
    "xls = pd.ExcelFile('Data.xlsx')\n",
    "\n",
    "# read every sheet in the Excel file\n",
    "data = pd.read_excel(xls, 'Description') # description of the data\n",
    "prodbal = pd.read_excel(xls, 'Products_ActBalance') # product account balance data set\n",
    "socdem = pd.read_excel(xls, 'Soc_Dem') # social demography data set\n",
    "inout = pd.read_excel(xls, 'Inflow_Outflow') # behavior as cash inflow and outflow\n",
    "sales = pd.read_excel(xls, 'Sales_Revenues') # sales and revenue\n",
    "\n",
    "# train set\n",
    "df = socdem.merge(sales, on='Client', how='inner')\n",
    "df1 = df.merge(prodbal, on='Client', how='inner')\n",
    "X = df1.merge(inout, on='Client', how='left') # left join\n",
    "\n",
    "# counter variables such as count of CA, SA, MF, OVD, CC, and CL, its NaN value will be replaced by 0.\n",
    "counters = ['Count_CA', 'Count_SA', 'Count_MF', 'Count_OVD', 'Count_CC', 'Count_CL']\n",
    "X[counters] = X[counters].fillna(value=0)\n",
    "\n",
    "# 6 targets\n",
    "MF_y = X['Sale_MF']\n",
    "CC_y = X['Sale_CC']\n",
    "CL_y = X['Sale_CL']\n",
    "rMF_y = X['Revenue_MF']\n",
    "rCC_y = X['Revenue_CC']\n",
    "rCL_y = X['Revenue_CL']\n",
    "X.drop(['Client','Sale_MF', 'Sale_CC', 'Sale_CL', 'Revenue_MF', 'Revenue_CC', 'Revenue_CL'], axis=1, inplace=True)\n",
    "\n",
    "# test set\n",
    "df2 = socdem.merge(prodbal, on='Client', how='inner')\n",
    "tdata = df2.merge(inout, on='Client', how='left') # left join\n",
    "test = tdata[~tdata.Client.isin(sales.Client)]\n",
    "\n",
    "# convert categorical variables to numerical with cardinality less than 10\n",
    "low_cardinality_cols = [cname for cname in X.columns if \n",
    "                                X[cname].nunique() < 10 and\n",
    "                                X[cname].dtype == \"object\"]\n",
    "\n",
    "# make sure all data are positive\n",
    "X = pd.get_dummies(X, columns=low_cardinality_cols)\n",
    "X = X.abs()\n",
    "test = pd.get_dummies(test, columns=low_cardinality_cols)\n",
    "test = test.abs()\n",
    "\n",
    "# clean data \n",
    "X.fillna(0, inplace=True)\n",
    "test.fillna(0, inplace=True)\n",
    "X = X.replace('\\n','', regex=True)\n",
    "test = test.replace('\\n','', regex=True)"
   ]
  },
  {
   "cell_type": "markdown",
   "metadata": {
    "_cell_guid": "fe1013fb-50bb-4340-bfd4-48186f6f2dc1",
    "_uuid": "91f6472b-2daf-4d33-94c1-ce4589e2f519"
   },
   "source": [
    "## Sales"
   ]
  },
  {
   "cell_type": "markdown",
   "metadata": {
    "_cell_guid": "12cab207-7e95-4ea7-b458-42e64fbbcc37",
    "_uuid": "e99e6e5a-3b29-45e3-a5e0-3898645c183a"
   },
   "source": [
    "### Mutual Fund Sales"
   ]
  },
  {
   "cell_type": "code",
   "execution_count": 5,
   "metadata": {
    "_cell_guid": "fb0334bc-6e8b-4951-abc0-3275fa6cb2ad",
    "_uuid": "96180eb7-f37e-4aba-8564-f90ed78b786c"
   },
   "outputs": [],
   "source": [
    "# split the data set\n",
    "MF_X_train, MF_X_valid, MF_y_train, MF_y_valid = train_test_split(X, MF_y, test_size=0.25, random_state=1)\n",
    "\n",
    "# scale train set to be fed to feature selection\n",
    "sc = StandardScaler()\n",
    "MF_X_train_scaled = sc.fit_transform(MF_X_train)\n",
    "\n",
    "# feature selection\n",
    "MF_feat = LogisticRegression()\n",
    "rfe = RFE(MF_feat, 2)\n",
    "fit = rfe.fit(MF_X_train_scaled, MF_y_train)\n",
    "\n",
    "# extract best features\n",
    "MF_features = [i for i, x in enumerate(fit.ranking_) if x == True]\n",
    "MF_F = list(X.columns[MF_features])\n",
    "\n",
    "# training and validation set with selected features\n",
    "MF_X_train = MF_X_train[MF_F]\n",
    "MF_X_valid = MF_X_valid[MF_F]"
   ]
  },
  {
   "cell_type": "code",
   "execution_count": 6,
   "metadata": {
    "_cell_guid": "028cc9c7-78e7-4a82-a958-811ff1f2ec42",
    "_uuid": "f0d30356-f73c-45b8-a5d9-bdcd7be6cef7"
   },
   "outputs": [
    {
     "name": "stdout",
     "output_type": "stream",
     "text": [
      "Mutual funds sales prediction accuracy: \n",
      "0.8148148148148148\n"
     ]
    }
   ],
   "source": [
    "# random forest classifier\n",
    "MF_model = RandomForestClassifier(n_estimators=350, max_depth=5, random_state=0)\n",
    "\n",
    "MF_model.fit(MF_X_train, MF_y_train)\n",
    "MF_preds = MF_model.predict(MF_X_valid)\n",
    "\n",
    "print(\"Mutual funds sales prediction accuracy: \")\n",
    "print(accuracy_score(MF_preds, MF_y_valid))"
   ]
  },
  {
   "cell_type": "code",
   "execution_count": 0,
   "metadata": {
    "_cell_guid": "9b38ac2d-c99a-4d7b-aa13-a8de0d87f33b",
    "_uuid": "d0022e17-d21d-49bc-851a-3a1fbb7a0aa4"
   },
   "outputs": [],
   "source": [
    "# finding the best hyperparameter for randomforest classifier in mutual funds sales\n",
    "parameters = [{'n_estimators':[50, 100, 150, 200, 250, 300, 350, 400, 450, 500], 'max_depth': range(5, 10)}]\n",
    "grid_search = GridSearchCV(estimator=MF_model, param_grid=parameters, scoring='accuracy', cv=10, n_jobs=-1)\n",
    "grid = grid_search.fit(MF_X_train, MF_y_train)\n",
    "print(grid_search.best_params_)"
   ]
  },
  {
   "cell_type": "markdown",
   "metadata": {
    "_cell_guid": "d215fb8f-b62c-4a18-8cec-e0a89904a516",
    "_uuid": "f67297b3-d138-48fb-ae1c-419f6ef8cc33"
   },
   "source": [
    "### Credit Card Sales"
   ]
  },
  {
   "cell_type": "code",
   "execution_count": 8,
   "metadata": {
    "_cell_guid": "4b1ef7e3-ef1c-4403-bd7b-a084d1a615d3",
    "_uuid": "ee32a645-49ea-42d0-b72c-c00807587f96"
   },
   "outputs": [],
   "source": [
    "# split the data set\n",
    "CC_X_train, CC_X_valid, CC_y_train, CC_y_valid = train_test_split(X, CC_y, test_size=0.25, random_state=1)\n",
    "\n",
    "# scale train set to be fed to feature selection\n",
    "#sc = StandardScaler()\n",
    "CC_X_train_scaled = sc.fit_transform(CC_X_train)\n",
    "\n",
    "# feature selection\n",
    "CC_feat = LogisticRegression()\n",
    "rfe = RFE(CC_feat, 2)\n",
    "fit = rfe.fit(CC_X_train_scaled, CC_y_train)\n",
    "\n",
    "# extract best features\n",
    "CC_features = [i for i, x in enumerate(fit.ranking_) if x == True]\n",
    "CC_F = list(X.columns[CC_features])\n",
    "\n",
    "# training and validation set with selected features\n",
    "CC_X_train = CC_X_train[CC_F]\n",
    "CC_X_valid = CC_X_valid[CC_F]"
   ]
  },
  {
   "cell_type": "code",
   "execution_count": 9,
   "metadata": {
    "_cell_guid": "d5e2dc02-4b51-45ed-94b0-41fa1cad6eee",
    "_uuid": "fd8dbf58-3390-4327-96f3-f74c3f2dcd87"
   },
   "outputs": [
    {
     "name": "stdout",
     "output_type": "stream",
     "text": [
      "Credit cards sales prediction accuracy: \n",
      "0.7695473251028807\n"
     ]
    }
   ],
   "source": [
    "# random forest classifier for credit card sales\n",
    "CC_model = RandomForestClassifier(n_estimators=150, max_depth=6, random_state=1)\n",
    "\n",
    "CC_model.fit(CC_X_train, CC_y_train)\n",
    "CC_preds = CC_model.predict(CC_X_valid)\n",
    "\n",
    "print(\"Credit cards sales prediction accuracy: \")\n",
    "print(accuracy_score(CC_preds, CC_y_valid))"
   ]
  },
  {
   "cell_type": "code",
   "execution_count": 0,
   "metadata": {
    "_cell_guid": "4146b845-dd9a-4ee8-a4c9-5b9cf023597f",
    "_uuid": "1cbec4b4-2638-4bbb-a32f-fd041da455dc"
   },
   "outputs": [],
   "source": [
    "# finding the best hyperparameter for randomforest classifier in credit card sales\n",
    "parameters = [{'n_estimators':[50, 100, 150, 200, 250, 300, 350, 400, 450, 500], 'max_depth': range(5, 10)}]\n",
    "grid_search = GridSearchCV(estimator=CC_model, param_grid=parameters, scoring='accuracy', cv=10, n_jobs=-1)\n",
    "grid = grid_search.fit(CC_X_train, CC_y_train)\n",
    "print(grid_search.best_params_)"
   ]
  },
  {
   "cell_type": "markdown",
   "metadata": {
    "_cell_guid": "4ee8c469-8236-4681-9c1b-699d7a4de687",
    "_uuid": "82803523-daad-47a4-a961-be610170e465"
   },
   "source": [
    "### Consumer Loans Sales"
   ]
  },
  {
   "cell_type": "code",
   "execution_count": 11,
   "metadata": {
    "_cell_guid": "2929abcb-5d8b-4f33-a15b-8def3cc45ff2",
    "_uuid": "f545040b-8609-4ea5-8c4c-51220cdf8eef"
   },
   "outputs": [],
   "source": [
    "# split the data set\n",
    "CL_X_train, CL_X_valid, CL_y_train, CL_y_valid = train_test_split(X, CL_y, test_size=0.25, random_state=1)\n",
    "\n",
    "# scale train set to be fed to feature selection\n",
    "#sc = StandardScaler()\n",
    "CL_X_train_scaled = sc.fit_transform(CL_X_train)\n",
    "\n",
    "# feature selection\n",
    "CL_feat = LogisticRegression()\n",
    "rfe = RFE(CL_feat, 2)\n",
    "fit = rfe.fit(CL_X_train_scaled, CL_y_train)\n",
    "\n",
    "# extract best features\n",
    "CL_features = [i for i, x in enumerate(fit.ranking_) if x == True]\n",
    "CL_F = list(X.columns[CL_features])\n",
    "\n",
    "# training and validation set with selected features\n",
    "CL_X_train = CL_X_train[CL_F]\n",
    "CL_X_valid = CL_X_valid[CL_F]"
   ]
  },
  {
   "cell_type": "code",
   "execution_count": 12,
   "metadata": {
    "_cell_guid": "dd96121e-58b6-45af-b9b7-cb4a8e60834e",
    "_uuid": "c9e45489-759c-44a3-a7ab-30a0b967132c"
   },
   "outputs": [
    {
     "name": "stdout",
     "output_type": "stream",
     "text": [
      "Consumer loans sales prediction accuracy: \n",
      "0.7448559670781894\n"
     ]
    }
   ],
   "source": [
    "# random forest classifier for consumer loans sales\n",
    "CL_model = RandomForestClassifier(n_estimators=200, max_depth=5, random_state=1)\n",
    "\n",
    "CL_model.fit(CL_X_train, CL_y_train)\n",
    "CL_preds = CL_model.predict(CL_X_valid)\n",
    "\n",
    "print(\"Consumer loans sales prediction accuracy: \")\n",
    "print(accuracy_score(CL_preds, CL_y_valid))"
   ]
  },
  {
   "cell_type": "code",
   "execution_count": 0,
   "metadata": {
    "_cell_guid": "4a806814-0322-43a4-95d8-2a0aa292e9a8",
    "_uuid": "03d2c2ee-d841-4222-af9c-31cbc3f24f05"
   },
   "outputs": [],
   "source": [
    "# finding the best hyperparameter for randomforest classifier in consumer loans sales\n",
    "parameters = [{'n_estimators':[50, 100, 150, 200, 250, 300, 350, 400, 450, 500], 'max_depth': range(5, 10)}]\n",
    "grid_search = GridSearchCV(estimator=CL_model, param_grid=parameters, scoring='accuracy', cv=10, n_jobs=-1)\n",
    "grid = grid_search.fit(CL_X_train, CL_y_train)\n",
    "print(grid_search.best_params_)"
   ]
  },
  {
   "cell_type": "markdown",
   "metadata": {
    "_cell_guid": "4411b07c-3ffd-4251-a68d-c8a61ee6036d",
    "_uuid": "ca1e1a25-cef5-4573-aac6-b4278f33cab0"
   },
   "source": [
    "## Revenues"
   ]
  },
  {
   "cell_type": "markdown",
   "metadata": {
    "_cell_guid": "f9b348b3-c3cf-4bc6-bfaf-70eeccdfb1a9",
    "_uuid": "11dfe739-9e24-46a9-8683-d8cfc5fd2802"
   },
   "source": [
    "### Mutual Funds Revenues"
   ]
  },
  {
   "cell_type": "code",
   "execution_count": 29,
   "metadata": {
    "_cell_guid": "4f8bfb08-95a1-4419-816d-1839d4f1d023",
    "_uuid": "5c26322d-d916-4047-a937-d63258751b7f"
   },
   "outputs": [],
   "source": [
    "# filter data according to MF sale\n",
    "MF_rX = X.join(MF_y)\n",
    "MF_rX = MF_rX[MF_rX['Sale_MF']==1]\n",
    "\n",
    "# response variable\n",
    "rMF_y = rMF_y[rMF_y>0] # filter response variable by removing data with no values \n",
    "\n",
    "# test set for mutual fund\n",
    "MF_rtest = test.join(MF_y)"
   ]
  },
  {
   "cell_type": "code",
   "execution_count": 32,
   "metadata": {
    "_cell_guid": "56cc5262-2be1-4c2e-8d85-72a8e9dcf30f",
    "_uuid": "e98f07eb-805d-4583-b2ef-a8c4a0690782"
   },
   "outputs": [],
   "source": [
    "# split the data set\n",
    "rMF_X_train, rMF_X_valid, rMF_y_train, rMF_y_valid = train_test_split(MF_rX, rMF_y, test_size=0.25, random_state=0)\n",
    "\n",
    "# scale train set to be fed to feature selection\n",
    "sc = StandardScaler()\n",
    "rMF_X_train_scaled = sc.fit_transform(rMF_X_train)\n",
    "\n",
    "\n",
    "# feature selection for continuous feature response\n",
    "rMF_feat = LinearRegression()\n",
    "rfe = RFE(rMF_feat, 3)\n",
    "fit = rfe.fit(rMF_X_train_scaled, rMF_y_train)\n",
    "\n",
    "# extract best features\n",
    "rMF_features = [i for i, x in enumerate(fit.ranking_) if x == True]\n",
    "rMF_F = list(X.columns[rMF_features])\n",
    "\n",
    "# training and validation set with selected features\n",
    "rMF_X_train = rMF_X_train[rMF_F]\n",
    "rMF_X_valid = rMF_X_valid[rMF_F]"
   ]
  },
  {
   "cell_type": "code",
   "execution_count": 33,
   "metadata": {
    "_cell_guid": "f366e566-384d-4e83-a92e-2d35e55948a4",
    "_uuid": "a7ab5c91-05ee-43b6-a8bb-0e2b08b36443"
   },
   "outputs": [
    {
     "name": "stdout",
     "output_type": "stream",
     "text": [
      "Mean Absolute Error: 11.473126530716785\n"
     ]
    }
   ],
   "source": [
    "# model mutual funds revenue\n",
    "rMF_model = XGBRegressor(n_estimators=100, learning_rate=0.1, random_state=1) # Your code here\n",
    "\n",
    "rMF_model.fit(rMF_X_train, rMF_y_train) # Your code here\n",
    "rMF_pred = rMF_model.predict(rMF_X_valid)\n",
    "rMF = rMF_model.predict(MF_rtest[rMF_F])\n",
    "#print(rMF)\n",
    "\n",
    "# MAE score\n",
    "rMF_mae = mean_absolute_error(rMF_pred, rMF_y_valid)\n",
    "print(\"Mean Absolute Error:\", rMF_mae)"
   ]
  },
  {
   "cell_type": "markdown",
   "metadata": {
    "_cell_guid": "c2984fac-cdd0-4b5c-9475-fa72d9982243",
    "_uuid": "9e59a997-ab9e-4c06-8f81-9b52f75d941e"
   },
   "source": [
    "### Credit Cards Revenues"
   ]
  },
  {
   "cell_type": "code",
   "execution_count": 35,
   "metadata": {
    "_cell_guid": "f7a3c849-a965-4b79-9fbf-1a2249c1ecaf",
    "_uuid": "35688bb1-a549-43fd-8b5e-24d530bc12eb"
   },
   "outputs": [],
   "source": [
    "# filter data according to CC sale\n",
    "CC_rX = X.join(CC_y)\n",
    "CC_rX = CC_rX[CC_rX['Sale_CC']==1]\n",
    "\n",
    "# response variable\n",
    "rCC_y = rCC_y[rCC_y>0]\n",
    "\n",
    "# test set for mutual fund\n",
    "CC_rtest = test.join(CC_y)\n",
    "#CC_rtest = CC_rtest[CC_rtest['Sale_CC']==1]"
   ]
  },
  {
   "cell_type": "code",
   "execution_count": 36,
   "metadata": {
    "_cell_guid": "b85fb7d2-78b6-4c83-aac9-dba6362adf4b",
    "_uuid": "7c720d28-4b07-4daf-9349-021d74b0396d"
   },
   "outputs": [],
   "source": [
    "# split the data set\n",
    "rCC_X_train, rCC_X_valid, rCC_y_train, rCC_y_valid = train_test_split(CC_rX, rCC_y, test_size=0.25, random_state=0)\n",
    "\n",
    "# scale train set to be fed to feature selection\n",
    "sc = StandardScaler()\n",
    "rCC_X_train_scaled = sc.fit_transform(rCC_X_train)\n",
    "\n",
    "\n",
    "# feature selection for continuous feature response\n",
    "rCC_feat = LinearRegression()\n",
    "rfe = RFE(rCC_feat, 5)\n",
    "fit = rfe.fit(rCC_X_train_scaled, rCC_y_train)\n",
    "\n",
    "# extract best features\n",
    "rCC_features = [i for i, x in enumerate(fit.ranking_) if x == True]\n",
    "rCC_F = list(X.columns[rCC_features])\n",
    "\n",
    "# training and validation set with selected features\n",
    "rCC_X_train = rCC_X_train[rCC_F]\n",
    "rCC_X_valid = rCC_X_valid[rCC_F]"
   ]
  },
  {
   "cell_type": "code",
   "execution_count": 37,
   "metadata": {
    "_cell_guid": "2ed41027-e7cb-48ea-9f5b-5b78a8378a4f",
    "_uuid": "0e886100-d17e-4516-aeb2-e1894c064d81"
   },
   "outputs": [
    {
     "name": "stdout",
     "output_type": "stream",
     "text": [
      "Mean Absolute Error: 17.02945264948336\n"
     ]
    }
   ],
   "source": [
    "# model credit card revenue\n",
    "rCC_model = XGBRegressor(n_estimators=100, learning_rate=0.1, random_state=1) # Your code here\n",
    "\n",
    "rCC_model.fit(rCC_X_train, rCC_y_train) # Your code here\n",
    "rCC_pred = rCC_model.predict(rCC_X_valid)\n",
    "rCC = rCC_model.predict(CC_rtest[rCC_F])\n",
    "#print(rCC)\n",
    "\n",
    "# MAE score\n",
    "rCC_mae = mean_absolute_error(rCC_pred, rCC_y_valid)\n",
    "print(\"Mean Absolute Error:\", rCC_mae)"
   ]
  },
  {
   "cell_type": "markdown",
   "metadata": {
    "_cell_guid": "cefe5b5c-fdea-4aaa-b6a8-f10a98d30942",
    "_uuid": "219712b8-a654-4a3b-a387-e2eb14e091cb"
   },
   "source": [
    "### Consumer Loans Revenues"
   ]
  },
  {
   "cell_type": "code",
   "execution_count": 38,
   "metadata": {
    "_cell_guid": "22c69dbc-8b7f-4475-857e-372a49136562",
    "_uuid": "0dd78637-1cb3-427d-a4d9-7e14ec61869f"
   },
   "outputs": [],
   "source": [
    "# filter data according to CC sale\n",
    "CL_rX = X.join(CL_y)\n",
    "CL_rX = CL_rX[CL_rX['Sale_CL']==1]\n",
    "\n",
    "# response variable\n",
    "rCL_y = rCL_y[rCL_y>0]\n",
    "\n",
    "# test set for mutual fund\n",
    "CL_rtest = test.join(CL_y)\n",
    "#CL_rtest = CL_rtest[CL_rtest['Sale_CL']==1]"
   ]
  },
  {
   "cell_type": "code",
   "execution_count": 39,
   "metadata": {
    "_cell_guid": "81e1f4e3-fa49-4177-8343-035f207327a3",
    "_uuid": "4bf2c5a6-d85f-4148-8888-63c767321955"
   },
   "outputs": [],
   "source": [
    "# split the data set\n",
    "rCL_X_train, rCL_X_valid, rCL_y_train, rCL_y_valid = train_test_split(CL_rX, rCL_y, test_size=0.25, random_state=0)\n",
    "\n",
    "# scale train set to be fed to feature selection\n",
    "sc = StandardScaler()\n",
    "rCL_X_train_scaled = sc.fit_transform(rCL_X_train)\n",
    "\n",
    "\n",
    "# feature selection for continuous feature response\n",
    "rCL_feat = LinearRegression()\n",
    "rfe = RFE(rCL_feat, 5)\n",
    "fit = rfe.fit(rCL_X_train_scaled, rCL_y_train)\n",
    "\n",
    "# extract best features\n",
    "rCL_features = [i for i, x in enumerate(fit.ranking_) if x == True]\n",
    "rCL_F = list(X.columns[rCL_features])\n",
    "\n",
    "# training and validation set with selected features\n",
    "rCL_X_train = rCL_X_train[rCL_F]\n",
    "rCL_X_valid = rCL_X_valid[rCL_F]"
   ]
  },
  {
   "cell_type": "code",
   "execution_count": 40,
   "metadata": {
    "_cell_guid": "d46b7f36-4cc9-4d9a-be52-6000d7a132e4",
    "_uuid": "c0421d03-5a80-4e17-bd82-c63e4174c0a3"
   },
   "outputs": [
    {
     "name": "stdout",
     "output_type": "stream",
     "text": [
      "Mean Absolute Error: 6.857036584529392\n"
     ]
    }
   ],
   "source": [
    "# model consumer loans revenue\n",
    "rCL_model = XGBRegressor(n_estimators=100, learning_rate=0.1, random_state=1) # Your code here\n",
    "\n",
    "rCL_model.fit(rCL_X_train, rCL_y_train) # Your code here\n",
    "rCL_pred = rCL_model.predict(rCL_X_valid)\n",
    "rCL = rCL_model.predict(CL_rtest[rCL_F])\n",
    "#print(rCL)\n",
    "\n",
    "# MAE score\n",
    "rCL_mae = mean_absolute_error(rCL_pred, rCL_y_valid)\n",
    "print(\"Mean Absolute Error:\", rCL_mae)"
   ]
  },
  {
   "cell_type": "markdown",
   "metadata": {
    "_cell_guid": "37a71b7b-8fb2-42b8-bb15-a6a85ac3bc59",
    "_uuid": "5fce27f3-cc00-4b35-8907-7f9fab8b3021"
   },
   "source": [
    "# Results"
   ]
  },
  {
   "cell_type": "code",
   "execution_count": 41,
   "metadata": {
    "_cell_guid": "77ce51d3-2b2d-4523-91a5-748326706e20",
    "_uuid": "2109ae00-2b0d-4b78-9ac6-4b3bad4131c5"
   },
   "outputs": [],
   "source": [
    "# sales prediction data frame in terms of probability\n",
    "MF_preds = MF_model.predict_proba(test[MF_F])\n",
    "MF_preds = MF_preds[:, 1]\n",
    "\n",
    "CC_preds = CC_model.predict_proba(test[CC_F])\n",
    "CC_preds = CC_preds[:, 1]\n",
    "\n",
    "CL_preds = CL_model.predict_proba(test[CL_F])\n",
    "CL_preds = CL_preds[:, 1]\n",
    "\n",
    "sales_output = pd.DataFrame({'Client':test.Client, 'MF_sales':MF_preds, 'CC_sales':CC_preds, 'CL_sales':CL_preds})\n",
    "\n",
    "# revenues of each product\n",
    "MF_revenues = pd.DataFrame({'Client':MF_rtest.Client, 'MF_Revenue':rMF})\n",
    "CC_revenues = pd.DataFrame({'Client':CC_rtest.Client, 'CC_Revenue':rCC})\n",
    "CL_revenues = pd.DataFrame({'Client':CL_rtest.Client, 'CL_Revenue':rCL})"
   ]
  },
  {
   "cell_type": "code",
   "execution_count": 0,
   "metadata": {
    "_cell_guid": "23f94a5b-d795-49d7-8ab3-16d6be20071d",
    "_uuid": "0ea2acde-fa91-4dc0-b0f6-4fca814fc65e"
   },
   "outputs": [],
   "source": []
  },
  {
   "cell_type": "markdown",
   "metadata": {
    "_cell_guid": "e04f98d0-8bc1-4173-8e8f-439c0019b6ba",
    "_uuid": "e4e8a01b-e400-4efb-ad07-cf8f56e5fd7f"
   },
   "source": [
    "## Top 100 prospects"
   ]
  },
  {
   "cell_type": "markdown",
   "metadata": {
    "_cell_guid": "fcb3fe69-314b-4ba6-ac12-061385f356b0",
    "_uuid": "8c67af1f-0be2-454e-9b1d-6c1e38c8b3ea"
   },
   "source": [
    "Revenues result will be merged based on top 100 clients of predicted sales. And predicted revenue will be computed."
   ]
  },
  {
   "cell_type": "code",
   "execution_count": 1,
   "metadata": {
    "_cell_guid": "3a73a7d0-6b2a-413a-ba46-c923f19fb5af",
    "_uuid": "6db51241-a5da-45c9-9880-65b3fd148c55",
    "scrolled": true
   },
   "outputs": [
    {
     "ename": "NameError",
     "evalue": "name 'sales_output' is not defined",
     "output_type": "error",
     "traceback": [
      "\u001b[1;31m---------------------------------------------------------------------------\u001b[0m",
      "\u001b[1;31mNameError\u001b[0m                                 Traceback (most recent call last)",
      "\u001b[1;32m<ipython-input-1-fd8b7530c4a7>\u001b[0m in \u001b[0;36m<module>\u001b[1;34m\u001b[0m\n\u001b[1;32m----> 1\u001b[1;33m \u001b[0msales_output\u001b[0m\u001b[1;33m[\u001b[0m\u001b[1;34m'mean'\u001b[0m\u001b[1;33m]\u001b[0m \u001b[1;33m=\u001b[0m \u001b[0msales_output\u001b[0m\u001b[1;33m[\u001b[0m\u001b[1;33m[\u001b[0m\u001b[1;34m'MF_sales'\u001b[0m\u001b[1;33m,\u001b[0m \u001b[1;34m'CC_sales'\u001b[0m\u001b[1;33m,\u001b[0m \u001b[1;34m'CL_sales'\u001b[0m\u001b[1;33m]\u001b[0m\u001b[1;33m]\u001b[0m\u001b[1;33m.\u001b[0m\u001b[0mmean\u001b[0m\u001b[1;33m(\u001b[0m\u001b[0mnumeric_only\u001b[0m\u001b[1;33m=\u001b[0m\u001b[1;32mTrue\u001b[0m\u001b[1;33m,\u001b[0m \u001b[0maxis\u001b[0m\u001b[1;33m=\u001b[0m\u001b[1;36m1\u001b[0m\u001b[1;33m)\u001b[0m\u001b[1;33m\u001b[0m\u001b[1;33m\u001b[0m\u001b[0m\n\u001b[0m\u001b[0;32m      2\u001b[0m \u001b[0msales_output\u001b[0m \u001b[1;33m=\u001b[0m \u001b[0msales_output\u001b[0m\u001b[1;33m.\u001b[0m\u001b[0mastype\u001b[0m\u001b[1;33m(\u001b[0m\u001b[1;33m{\u001b[0m\u001b[1;34m'Client'\u001b[0m\u001b[1;33m:\u001b[0m\u001b[0mint\u001b[0m\u001b[1;33m}\u001b[0m\u001b[1;33m)\u001b[0m\u001b[1;33m\u001b[0m\u001b[1;33m\u001b[0m\u001b[0m\n\u001b[0;32m      3\u001b[0m \u001b[1;33m\u001b[0m\u001b[0m\n\u001b[0;32m      4\u001b[0m \u001b[1;31m# identify which client in top 100 will take which product\u001b[0m\u001b[1;33m\u001b[0m\u001b[1;33m\u001b[0m\u001b[1;33m\u001b[0m\u001b[0m\n\u001b[0;32m      5\u001b[0m \u001b[0mprospects\u001b[0m \u001b[1;33m=\u001b[0m \u001b[0msales_output\u001b[0m\u001b[1;33m.\u001b[0m\u001b[0msort_values\u001b[0m\u001b[1;33m(\u001b[0m\u001b[1;34m'mean'\u001b[0m\u001b[1;33m,\u001b[0m \u001b[0mascending\u001b[0m\u001b[1;33m=\u001b[0m\u001b[1;32mFalse\u001b[0m\u001b[1;33m)\u001b[0m\u001b[1;33m.\u001b[0m\u001b[0mhead\u001b[0m\u001b[1;33m(\u001b[0m\u001b[1;36m100\u001b[0m\u001b[1;33m)\u001b[0m\u001b[1;33m\u001b[0m\u001b[1;33m\u001b[0m\u001b[0m\n",
      "\u001b[1;31mNameError\u001b[0m: name 'sales_output' is not defined"
     ]
    }
   ],
   "source": [
    "sales_output['mean'] = sales_output[['MF_sales', 'CC_sales', 'CL_sales']].mean(numeric_only=True, axis=1)\n",
    "sales_output = sales_output.astype({'Client':int})\n",
    "\n",
    "# identify which client in top 100 will take which product\n",
    "prospects = sales_output.sort_values('mean', ascending=False).head(100)\n",
    "prospects['prod'] = prospects[['MF_sales', 'CC_sales', 'CL_sales']].idxmax(axis=1)\n",
    "print(prospects.head())"
   ]
  },
  {
   "cell_type": "code",
   "execution_count": 47,
   "metadata": {
    "_cell_guid": "90323e6e-b214-4db6-8749-6a61709c6728",
    "_uuid": "061722f9-955b-46c4-9795-bcc013502169"
   },
   "outputs": [
    {
     "name": "stdout",
     "output_type": "stream",
     "text": [
      "   Client  MF_sales  CC_sales  CL_sales      mean      prod\n",
      "0     354  0.662831  0.331233  0.293038  0.429034  MF_sales\n",
      "1     866  0.782332  0.182862  0.248598  0.404597  MF_sales\n",
      "2     910  0.720254  0.201478  0.291145  0.404292  MF_sales\n",
      "3    1435  0.676070  0.230306  0.266520  0.390965  MF_sales\n",
      "4    1119  0.721798  0.159088  0.268465  0.383117  MF_sales\n",
      "\n",
      "    Client  MF_sales  CC_sales  CL_sales      mean      prod\n",
      "0     851  0.674476  0.941314  0.397475  0.671089  CC_sales\n",
      "1     668  0.718682  0.732070  0.367298  0.606017  CC_sales\n",
      "2     978  0.188305  0.876429  0.669894  0.578209  CC_sales\n",
      "3     197  0.188305  0.847143  0.546521  0.527323  CC_sales\n",
      "4     352  0.272297  0.959334  0.289426  0.507019  CC_sales\n",
      "\n",
      "    Client  MF_sales  CC_sales  CL_sales      mean      prod\n",
      "0    1207  0.245473  0.341405  0.557529  0.381469  CL_sales\n",
      "1     715  0.228616  0.370568  0.507256  0.368814  CL_sales\n",
      "2     164  0.131662  0.383557  0.590564  0.368594  CL_sales\n",
      "3     532  0.188305  0.214334  0.654500  0.352380  CL_sales\n",
      "4    1455  0.225001  0.211624  0.600413  0.345679  CL_sales\n"
     ]
    }
   ],
   "source": [
    "# predicted customers per product\n",
    "mutual_funds = prospects[prospects['prod'] == 'MF_sales']\n",
    "mutual_funds.reset_index(drop=True, inplace=True)\n",
    "\n",
    "credit_cards = prospects[prospects['prod'] == 'CC_sales']\n",
    "credit_cards.reset_index(drop=True, inplace=True)\n",
    "\n",
    "consumer_loans = prospects[prospects['prod'] == 'CL_sales']\n",
    "consumer_loans.reset_index(drop=True, inplace=True)\n",
    "\n",
    "print(mutual_funds.head())\n",
    "print(\"\\n\", credit_cards.head())\n",
    "print(\"\\n\", consumer_loans.head())"
   ]
  },
  {
   "cell_type": "code",
   "execution_count": 48,
   "metadata": {
    "_cell_guid": "75fb95c4-38f7-4769-a30e-feb9ee87f0f5",
    "_uuid": "7781d46b-59d7-4876-95c9-eb2b62832435"
   },
   "outputs": [
    {
     "name": "stdout",
     "output_type": "stream",
     "text": [
      "   Client  MF_sales  CC_sales  CL_sales      mean      prod    revenue\n",
      "0     354  0.662831  0.331233  0.293038  0.429034  MF_sales   7.021104\n",
      "1     866  0.782332  0.182862  0.248598  0.404597  MF_sales   1.113064\n",
      "2     910  0.720254  0.201478  0.291145  0.404292  MF_sales  23.983866\n",
      "3    1435  0.676070  0.230306  0.266520  0.390965  MF_sales  11.399742\n",
      "4    1119  0.721798  0.159088  0.268465  0.383117  MF_sales   1.997030\n"
     ]
    }
   ],
   "source": [
    "# predicted clients with revenue of mutual fund will be merged to the revenues 646 data result\n",
    "client_pred_MF_revenue = mutual_funds.merge(MF_revenues, on='Client', how='inner')\n",
    "client_pred_MF_revenue.rename({'MF_Revenue':'revenue'}, axis=1, inplace=True)\n",
    "client_pred_CC_revenue = credit_cards.merge(CC_revenues, on='Client', how='inner')\n",
    "client_pred_CC_revenue.rename({'CC_Revenue':'revenue'}, axis=1, inplace=True)\n",
    "client_pred_CL_revenue = consumer_loans.merge(CL_revenues, on='Client', how='inner')\n",
    "client_pred_CL_revenue.rename({'CL_Revenue':'revenue'}, axis=1, inplace=True)\n",
    "\n",
    "result = pd.concat([client_pred_MF_revenue, client_pred_CC_revenue, client_pred_CL_revenue], sort=False)\n",
    "result.reset_index(drop=True, inplace=True)\n",
    "\n",
    "print(result.head())"
   ]
  },
  {
   "cell_type": "code",
   "execution_count": 49,
   "metadata": {
    "_cell_guid": "2ef2abc7-e198-4171-8437-d77a34cbb2fb",
    "_uuid": "ae2a1d6f-7b93-4b15-9afb-40c08ef72fb3"
   },
   "outputs": [
    {
     "data": {
      "text/plain": [
       "1232.4062"
      ]
     },
     "execution_count": 49,
     "metadata": {},
     "output_type": "execute_result"
    }
   ],
   "source": [
    "result.revenue.sum()"
   ]
  },
  {
   "cell_type": "markdown",
   "metadata": {
    "_cell_guid": "a7164385-5a12-4200-b40f-ece85661d384",
    "_uuid": "f7a75972-2ecd-4939-96cd-4c384edf8742"
   },
   "source": [
    "### Prospected clients for every product given its probability"
   ]
  },
  {
   "cell_type": "code",
   "execution_count": 51,
   "metadata": {
    "_cell_guid": "de2c6641-de9f-4607-a3d6-d7b3fde4614e",
    "_uuid": "c54f92c4-ec4d-4a06-a120-c79252baeabd"
   },
   "outputs": [],
   "source": [
    "# mutual funds\n",
    "prospects_MF = prospects[prospects['MF_sales'] > 0.5]\n",
    "prospects_MF = prospects_MF.drop(['prod', 'CL_sales', 'CC_sales', 'mean'], axis=1)\n",
    "prospects_MF.reset_index(drop=True, inplace=True)\n",
    "\n",
    "# credit cards\n",
    "prospects_CC = prospects[prospects['CC_sales'] > 0.5]\n",
    "prospects_CC =prospects_CC.drop(['prod', 'CL_sales', 'MF_sales', 'mean'], axis=1)\n",
    "prospects_CC.reset_index(drop=True, inplace=True)\n",
    "\n",
    "# consumer loans\n",
    "prospects_CL = prospects[prospects['CL_sales'] > 0.5]\n",
    "prospects_CL =prospects_CL.drop(['prod', 'CC_sales', 'MF_sales', 'mean'], axis=1)\n",
    "prospects_CL.reset_index(drop=True, inplace=True)"
   ]
  },
  {
   "cell_type": "code",
   "execution_count": 52,
   "metadata": {
    "_cell_guid": "73245188-06a5-4b23-857b-54a1c99139c8",
    "_uuid": "a4cca58e-86cc-45c8-a3a3-753b0e9a10bb"
   },
   "outputs": [
    {
     "name": "stdout",
     "output_type": "stream",
     "text": [
      "   Client  MF_sales\n",
      "0     851  0.674476\n",
      "1     668  0.718682\n",
      "2     354  0.662831\n",
      "3     866  0.782332\n",
      "4     910  0.720254\n",
      "\n",
      "    Client  CC_sales\n",
      "0     851  0.941314\n",
      "1     668  0.732070\n",
      "2     978  0.876429\n",
      "3     197  0.847143\n",
      "4     352  0.959334\n",
      "\n",
      "    Client  MF_sales\n",
      "0     851  0.674476\n",
      "1     668  0.718682\n",
      "2     354  0.662831\n",
      "3     866  0.782332\n",
      "4     910  0.720254\n"
     ]
    }
   ],
   "source": [
    "print(prospects_MF.head())\n",
    "print(\"\\n\", prospects_CC.head())\n",
    "print(\"\\n\", prospects_MF.head())"
   ]
  }
 ],
 "metadata": {
  "kernelspec": {
   "display_name": "Python 3",
   "language": "python",
   "name": "python3"
  },
  "language_info": {
   "codemirror_mode": {
    "name": "ipython",
    "version": 3
   },
   "file_extension": ".py",
   "mimetype": "text/x-python",
   "name": "python",
   "nbconvert_exporter": "python",
   "pygments_lexer": "ipython3",
   "version": "3.7.3"
  }
 },
 "nbformat": 4,
 "nbformat_minor": 4
}
